{
 "cells": [
  {
   "cell_type": "code",
   "execution_count": 8,
   "id": "d31c9067",
   "metadata": {},
   "outputs": [
    {
     "name": "stdout",
     "output_type": "stream",
     "text": [
      "Using device: mps\n"
     ]
    }
   ],
   "source": [
    "from pathlib import Path\n",
    "import sys\n",
    "\n",
    "proj_path = Path().resolve()\n",
    "\n",
    "    \n",
    "from aib9_lib import aib9_tools as aib9\n",
    "import numpy as np\n",
    "import torch\n",
    "import os\n",
    "seed = 42\n",
    "np.random.seed(seed)\n",
    "torch.manual_seed(seed)\n",
    "\n",
    "if torch.backends.mps.is_available():\n",
    "    device = torch.device('mps')\n",
    "elif torch.cuda.is_available():\n",
    "    device = torch.device('cuda')\n",
    "else:\n",
    "    device = torch.device('cpu')\n",
    "print(f'Using device: {device}')"
   ]
  },
  {
   "cell_type": "code",
   "execution_count": 9,
   "id": "207a6ce5",
   "metadata": {},
   "outputs": [],
   "source": [
    "coords = np.load('molecule_coords.npy')"
   ]
  },
  {
   "cell_type": "code",
   "execution_count": 10,
   "id": "c849d78d",
   "metadata": {},
   "outputs": [
    {
     "data": {
      "application/3dmoljs_load.v0": "<div id=\"3dmolviewer_17591105367869482\"  style=\"position: relative; width: 400px; height: 400px;\">\n        <p id=\"3dmolwarning_17591105367869482\" style=\"background-color:#ffcccc;color:black\">3Dmol.js failed to load for some reason.  Please check your browser console for error messages.<br></p>\n        </div>\n<script>\n\nvar loadScriptAsync = function(uri){\n  return new Promise((resolve, reject) => {\n    //this is to ignore the existence of requirejs amd\n    var savedexports, savedmodule;\n    if (typeof exports !== 'undefined') savedexports = exports;\n    else exports = {}\n    if (typeof module !== 'undefined') savedmodule = module;\n    else module = {}\n\n    var tag = document.createElement('script');\n    tag.src = uri;\n    tag.async = true;\n    tag.onload = () => {\n        exports = savedexports;\n        module = savedmodule;\n        resolve();\n    };\n  var firstScriptTag = document.getElementsByTagName('script')[0];\n  firstScriptTag.parentNode.insertBefore(tag, firstScriptTag);\n});\n};\n\nif(typeof $3Dmolpromise === 'undefined') {\n$3Dmolpromise = null;\n  $3Dmolpromise = loadScriptAsync('https://cdn.jsdelivr.net/npm/3dmol@2.5.2/build/3Dmol-min.js');\n}\n\nvar viewer_17591105367869482 = null;\nvar warn = document.getElementById(\"3dmolwarning_17591105367869482\");\nif(warn) {\n    warn.parentNode.removeChild(warn);\n}\n$3Dmolpromise.then(function() {\nviewer_17591105367869482 = $3Dmol.createViewer(document.getElementById(\"3dmolviewer_17591105367869482\"),{backgroundColor:\"white\"});\nviewer_17591105367869482.zoomTo();\n\tviewer_17591105367869482.addModel(\"MODEL     1\\nATOM      1    C MOL     1      -0.865   0.485  -0.019  1.00  0.00           C  \\nATOM      2    C MOL     1      -0.728   0.470  -0.023  1.00  0.00           C  \\nATOM      3    O MOL     1      -0.699   0.366  -0.048  1.00  0.00           O  \\nATOM      4    N MOL     1      -0.642   0.574   0.002  1.00  0.00           N  \\nATOM      5    C MOL     1      -0.503   0.584   0.004  1.00  0.00           C  \\nATOM      6    C MOL     1      -0.444   0.664  -0.090  1.00  0.00           C  \\nATOM      7    C MOL     1      -0.494   0.656   0.126  1.00  0.00           C  \\nATOM      8    C MOL     1      -0.431   0.465  -0.018  1.00  0.00           C  \\nATOM      9    O MOL     1      -0.351   0.406  -0.044  1.00  0.00           O  \\nATOM     10    N MOL     1      -0.462   0.436  -0.007  1.00  0.00           N  \\nATOM     11    C MOL     1      -0.417   0.327  -0.026  1.00  0.00           C  \\nATOM     12    C MOL     1      -0.371   0.338  -0.023  1.00  0.00           C  \\nATOM     13    C MOL     1      -0.424   0.324   0.005  1.00  0.00           C  \\nATOM     14    C MOL     1      -0.410   0.211  -0.075  1.00  0.00           C  \\nATOM     15    O MOL     1      -0.315   0.144  -0.097  1.00  0.00           O  \\nATOM     16    N MOL     1      -0.508   0.184  -0.090  1.00  0.00           N  \\nATOM     17    C MOL     1      -0.517   0.086  -0.134  1.00  0.00           C  \\nATOM     18    C MOL     1      -0.568   0.046  -0.051  1.00  0.00           C  \\nATOM     19    C MOL     1      -0.606   0.104  -0.198  1.00  0.00           C  \\nATOM     20    C MOL     1      -0.406   0.012  -0.189  1.00  0.00           C  \\nATOM     21    O MOL     1      -0.356  -0.075  -0.195  1.00  0.00           O  \\nATOM     22    N MOL     1      -0.370   0.044  -0.227  1.00  0.00           N  \\nATOM     23    C MOL     1      -0.270  -0.012  -0.282  1.00  0.00           C  \\nATOM     24    C MOL     1      -0.296  -0.044  -0.319  1.00  0.00           C  \\nATOM     25    C MOL     1      -0.261   0.045  -0.303  1.00  0.00           C  \\nATOM     26    C MOL     1      -0.152  -0.080  -0.283  1.00  0.00           C  \\nATOM     27    O MOL     1      -0.077  -0.151  -0.278  1.00  0.00           O  \\nATOM     28    N MOL     1      -0.136  -0.060  -0.292  1.00  0.00           N  \\nATOM     29    C MOL     1      -0.035  -0.117  -0.289  1.00  0.00           C  \\nATOM     30    C MOL     1      -0.069  -0.166  -0.385  1.00  0.00           C  \\nATOM     31    C MOL     1       0.041  -0.045  -0.335  1.00  0.00           C  \\nATOM     32    C MOL     1       0.026  -0.188  -0.158  1.00  0.00           C  \\nATOM     33    O MOL     1       0.123  -0.265  -0.188  1.00  0.00           O  \\nATOM     34    N MOL     1      -0.029  -0.159  -0.011  1.00  0.00           N  \\nATOM     35    C MOL     1       0.014  -0.209   0.129  1.00  0.00           C  \\nATOM     36    C MOL     1      -0.016  -0.112   0.242  1.00  0.00           C  \\nATOM     37    C MOL     1      -0.068  -0.333   0.157  1.00  0.00           C  \\nATOM     38    C MOL     1       0.155  -0.234   0.143  1.00  0.00           C  \\nATOM     39    O MOL     1       0.190  -0.334   0.192  1.00  0.00           O  \\nATOM     40    N MOL     1       0.235  -0.141   0.104  1.00  0.00           N  \\nATOM     41    C MOL     1       0.370  -0.146   0.096  1.00  0.00           C  \\nATOM     42    C MOL     1       0.407  -0.044  -0.009  1.00  0.00           C  \\nATOM     43    C MOL     1       0.407  -0.091   0.236  1.00  0.00           C  \\nATOM     44    C MOL     1       0.436  -0.278   0.053  1.00  0.00           C  \\nATOM     45    O MOL     1       0.527  -0.315   0.108  1.00  0.00           O  \\nATOM     46    N MOL     1       0.393  -0.343  -0.051  1.00  0.00           N  \\nATOM     47    C MOL     1       0.428  -0.472  -0.103  1.00  0.00           C  \\nATOM     48    C MOL     1       0.317  -0.525  -0.201  1.00  0.00           C  \\nATOM     49    C MOL     1       0.544  -0.445  -0.185  1.00  0.00           C  \\nATOM     50    C MOL     1       0.449  -0.575   0.000  1.00  0.00           C  \\nATOM     51    O MOL     1       0.530  -0.649  -0.003  1.00  0.00           O  \\nATOM     52    N MOL     1       0.367  -0.586   0.090  1.00  0.00           N  \\nATOM     53    C MOL     1       0.355  -0.684   0.189  1.00  0.00           C  \\nATOM     54    C MOL     1       0.376  -0.633   0.292  1.00  0.00           C  \\nATOM     55    C MOL     1       0.248  -0.709   0.195  1.00  0.00           C  \\nATOM     56    C MOL     1       0.409  -0.802   0.193  1.00  0.00           C  \\nATOM     57    O MOL     1       0.444  -0.878   0.210  1.00  0.00           O  \\nATOM     58    C MOL     1       0.422  -0.818   0.180  1.00  0.00           C  \\nENDMDL\\n\",\"pdb\");\n\tviewer_17591105367869482.setStyle({\"stick\": {\"radius\": 0.1}, \"sphere\": {\"radius\": 0.1}});\n\tviewer_17591105367869482.setBackgroundColor(\"white\");\n\tviewer_17591105367869482.zoomTo();\nviewer_17591105367869482.render();\n});\n</script>",
      "text/html": [
       "<div id=\"3dmolviewer_17591105367869482\"  style=\"position: relative; width: 400px; height: 400px;\">\n",
       "        <p id=\"3dmolwarning_17591105367869482\" style=\"background-color:#ffcccc;color:black\">3Dmol.js failed to load for some reason.  Please check your browser console for error messages.<br></p>\n",
       "        </div>\n",
       "<script>\n",
       "\n",
       "var loadScriptAsync = function(uri){\n",
       "  return new Promise((resolve, reject) => {\n",
       "    //this is to ignore the existence of requirejs amd\n",
       "    var savedexports, savedmodule;\n",
       "    if (typeof exports !== 'undefined') savedexports = exports;\n",
       "    else exports = {}\n",
       "    if (typeof module !== 'undefined') savedmodule = module;\n",
       "    else module = {}\n",
       "\n",
       "    var tag = document.createElement('script');\n",
       "    tag.src = uri;\n",
       "    tag.async = true;\n",
       "    tag.onload = () => {\n",
       "        exports = savedexports;\n",
       "        module = savedmodule;\n",
       "        resolve();\n",
       "    };\n",
       "  var firstScriptTag = document.getElementsByTagName('script')[0];\n",
       "  firstScriptTag.parentNode.insertBefore(tag, firstScriptTag);\n",
       "});\n",
       "};\n",
       "\n",
       "if(typeof $3Dmolpromise === 'undefined') {\n",
       "$3Dmolpromise = null;\n",
       "  $3Dmolpromise = loadScriptAsync('https://cdn.jsdelivr.net/npm/3dmol@2.5.2/build/3Dmol-min.js');\n",
       "}\n",
       "\n",
       "var viewer_17591105367869482 = null;\n",
       "var warn = document.getElementById(\"3dmolwarning_17591105367869482\");\n",
       "if(warn) {\n",
       "    warn.parentNode.removeChild(warn);\n",
       "}\n",
       "$3Dmolpromise.then(function() {\n",
       "viewer_17591105367869482 = $3Dmol.createViewer(document.getElementById(\"3dmolviewer_17591105367869482\"),{backgroundColor:\"white\"});\n",
       "viewer_17591105367869482.zoomTo();\n",
       "\tviewer_17591105367869482.addModel(\"MODEL     1\\nATOM      1    C MOL     1      -0.865   0.485  -0.019  1.00  0.00           C  \\nATOM      2    C MOL     1      -0.728   0.470  -0.023  1.00  0.00           C  \\nATOM      3    O MOL     1      -0.699   0.366  -0.048  1.00  0.00           O  \\nATOM      4    N MOL     1      -0.642   0.574   0.002  1.00  0.00           N  \\nATOM      5    C MOL     1      -0.503   0.584   0.004  1.00  0.00           C  \\nATOM      6    C MOL     1      -0.444   0.664  -0.090  1.00  0.00           C  \\nATOM      7    C MOL     1      -0.494   0.656   0.126  1.00  0.00           C  \\nATOM      8    C MOL     1      -0.431   0.465  -0.018  1.00  0.00           C  \\nATOM      9    O MOL     1      -0.351   0.406  -0.044  1.00  0.00           O  \\nATOM     10    N MOL     1      -0.462   0.436  -0.007  1.00  0.00           N  \\nATOM     11    C MOL     1      -0.417   0.327  -0.026  1.00  0.00           C  \\nATOM     12    C MOL     1      -0.371   0.338  -0.023  1.00  0.00           C  \\nATOM     13    C MOL     1      -0.424   0.324   0.005  1.00  0.00           C  \\nATOM     14    C MOL     1      -0.410   0.211  -0.075  1.00  0.00           C  \\nATOM     15    O MOL     1      -0.315   0.144  -0.097  1.00  0.00           O  \\nATOM     16    N MOL     1      -0.508   0.184  -0.090  1.00  0.00           N  \\nATOM     17    C MOL     1      -0.517   0.086  -0.134  1.00  0.00           C  \\nATOM     18    C MOL     1      -0.568   0.046  -0.051  1.00  0.00           C  \\nATOM     19    C MOL     1      -0.606   0.104  -0.198  1.00  0.00           C  \\nATOM     20    C MOL     1      -0.406   0.012  -0.189  1.00  0.00           C  \\nATOM     21    O MOL     1      -0.356  -0.075  -0.195  1.00  0.00           O  \\nATOM     22    N MOL     1      -0.370   0.044  -0.227  1.00  0.00           N  \\nATOM     23    C MOL     1      -0.270  -0.012  -0.282  1.00  0.00           C  \\nATOM     24    C MOL     1      -0.296  -0.044  -0.319  1.00  0.00           C  \\nATOM     25    C MOL     1      -0.261   0.045  -0.303  1.00  0.00           C  \\nATOM     26    C MOL     1      -0.152  -0.080  -0.283  1.00  0.00           C  \\nATOM     27    O MOL     1      -0.077  -0.151  -0.278  1.00  0.00           O  \\nATOM     28    N MOL     1      -0.136  -0.060  -0.292  1.00  0.00           N  \\nATOM     29    C MOL     1      -0.035  -0.117  -0.289  1.00  0.00           C  \\nATOM     30    C MOL     1      -0.069  -0.166  -0.385  1.00  0.00           C  \\nATOM     31    C MOL     1       0.041  -0.045  -0.335  1.00  0.00           C  \\nATOM     32    C MOL     1       0.026  -0.188  -0.158  1.00  0.00           C  \\nATOM     33    O MOL     1       0.123  -0.265  -0.188  1.00  0.00           O  \\nATOM     34    N MOL     1      -0.029  -0.159  -0.011  1.00  0.00           N  \\nATOM     35    C MOL     1       0.014  -0.209   0.129  1.00  0.00           C  \\nATOM     36    C MOL     1      -0.016  -0.112   0.242  1.00  0.00           C  \\nATOM     37    C MOL     1      -0.068  -0.333   0.157  1.00  0.00           C  \\nATOM     38    C MOL     1       0.155  -0.234   0.143  1.00  0.00           C  \\nATOM     39    O MOL     1       0.190  -0.334   0.192  1.00  0.00           O  \\nATOM     40    N MOL     1       0.235  -0.141   0.104  1.00  0.00           N  \\nATOM     41    C MOL     1       0.370  -0.146   0.096  1.00  0.00           C  \\nATOM     42    C MOL     1       0.407  -0.044  -0.009  1.00  0.00           C  \\nATOM     43    C MOL     1       0.407  -0.091   0.236  1.00  0.00           C  \\nATOM     44    C MOL     1       0.436  -0.278   0.053  1.00  0.00           C  \\nATOM     45    O MOL     1       0.527  -0.315   0.108  1.00  0.00           O  \\nATOM     46    N MOL     1       0.393  -0.343  -0.051  1.00  0.00           N  \\nATOM     47    C MOL     1       0.428  -0.472  -0.103  1.00  0.00           C  \\nATOM     48    C MOL     1       0.317  -0.525  -0.201  1.00  0.00           C  \\nATOM     49    C MOL     1       0.544  -0.445  -0.185  1.00  0.00           C  \\nATOM     50    C MOL     1       0.449  -0.575   0.000  1.00  0.00           C  \\nATOM     51    O MOL     1       0.530  -0.649  -0.003  1.00  0.00           O  \\nATOM     52    N MOL     1       0.367  -0.586   0.090  1.00  0.00           N  \\nATOM     53    C MOL     1       0.355  -0.684   0.189  1.00  0.00           C  \\nATOM     54    C MOL     1       0.376  -0.633   0.292  1.00  0.00           C  \\nATOM     55    C MOL     1       0.248  -0.709   0.195  1.00  0.00           C  \\nATOM     56    C MOL     1       0.409  -0.802   0.193  1.00  0.00           C  \\nATOM     57    O MOL     1       0.444  -0.878   0.210  1.00  0.00           O  \\nATOM     58    C MOL     1       0.422  -0.818   0.180  1.00  0.00           C  \\nENDMDL\\n\",\"pdb\");\n",
       "\tviewer_17591105367869482.setStyle({\"stick\": {\"radius\": 0.1}, \"sphere\": {\"radius\": 0.1}});\n",
       "\tviewer_17591105367869482.setBackgroundColor(\"white\");\n",
       "\tviewer_17591105367869482.zoomTo();\n",
       "viewer_17591105367869482.render();\n",
       "});\n",
       "</script>"
      ]
     },
     "metadata": {},
     "output_type": "display_data"
    }
   ],
   "source": [
    "coords=coords[0]\n",
    "view=aib9.py3dplot(coords, style = 'ball_stick')"
   ]
  },
  {
   "cell_type": "code",
   "execution_count": 15,
   "id": "4f3fd18e",
   "metadata": {},
   "outputs": [],
   "source": [
    "TOPO_FILE = (\n",
    "   \"/Users/chriszhang/Documents/aib9_vanillavae/visnet_aib9/aib9_lib/aib9_atom_info.npy\"\n",
    ") \n",
    "topo = np.load(TOPO_FILE)"
   ]
  },
  {
   "cell_type": "code",
   "execution_count": 16,
   "id": "c80d8675",
   "metadata": {},
   "outputs": [
    {
     "data": {
      "text/plain": [
       "array([['CH3', '1'],\n",
       "       ['C', '1'],\n",
       "       ['O', '1'],\n",
       "       ['N', '2'],\n",
       "       ['CA', '2'],\n",
       "       ['CB1', '2'],\n",
       "       ['CB2', '2'],\n",
       "       ['C', '2'],\n",
       "       ['O', '2'],\n",
       "       ['N', '3'],\n",
       "       ['CA', '3'],\n",
       "       ['CB1', '3'],\n",
       "       ['CB2', '3'],\n",
       "       ['C', '3'],\n",
       "       ['O', '3'],\n",
       "       ['N', '4'],\n",
       "       ['CA', '4'],\n",
       "       ['CB1', '4'],\n",
       "       ['CB2', '4'],\n",
       "       ['C', '4'],\n",
       "       ['O', '4'],\n",
       "       ['N', '5'],\n",
       "       ['CA', '5'],\n",
       "       ['CB1', '5'],\n",
       "       ['CB2', '5'],\n",
       "       ['C', '5'],\n",
       "       ['O', '5'],\n",
       "       ['N', '6'],\n",
       "       ['CA', '6'],\n",
       "       ['CB1', '6'],\n",
       "       ['CB2', '6'],\n",
       "       ['C', '6'],\n",
       "       ['O', '6'],\n",
       "       ['N', '7'],\n",
       "       ['CA', '7'],\n",
       "       ['CB1', '7'],\n",
       "       ['CB2', '7'],\n",
       "       ['C', '7'],\n",
       "       ['O', '7'],\n",
       "       ['N', '8'],\n",
       "       ['CA', '8'],\n",
       "       ['CB1', '8'],\n",
       "       ['CB2', '8'],\n",
       "       ['C', '8'],\n",
       "       ['O', '8'],\n",
       "       ['N', '9'],\n",
       "       ['CA', '9'],\n",
       "       ['CB1', '9'],\n",
       "       ['CB2', '9'],\n",
       "       ['C', '9'],\n",
       "       ['O', '9'],\n",
       "       ['N', '10'],\n",
       "       ['CA', '10'],\n",
       "       ['CB1', '10'],\n",
       "       ['CB2', '10'],\n",
       "       ['C', '10'],\n",
       "       ['O', '10'],\n",
       "       ['CA2', '10']], dtype='<U21')"
      ]
     },
     "execution_count": 16,
     "metadata": {},
     "output_type": "execute_result"
    }
   ],
   "source": [
    "topo"
   ]
  }
 ],
 "metadata": {
  "kernelspec": {
   "display_name": "base",
   "language": "python",
   "name": "python3"
  },
  "language_info": {
   "codemirror_mode": {
    "name": "ipython",
    "version": 3
   },
   "file_extension": ".py",
   "mimetype": "text/x-python",
   "name": "python",
   "nbconvert_exporter": "python",
   "pygments_lexer": "ipython3",
   "version": "3.11.9"
  }
 },
 "nbformat": 4,
 "nbformat_minor": 5
}
