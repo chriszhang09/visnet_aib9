{
 "cells": [
  {
   "cell_type": "code",
   "execution_count": null,
   "id": "81f833ec",
   "metadata": {},
   "outputs": [],
   "source": [
    "import argparse\n",
    "import logging\n",
    "import os\n",
    "import sys\n",
    "\n",
    "import numpy as np\n",
    "import pytorch_lightning as pl\n",
    "import torch\n",
    "import torch.nn.functional as F\n",
    "import pathlib\n",
    "\n",
    "import matplotlib.pyplot as plt\n",
    "from pytorch_lightning.callbacks import EarlyStopping\n",
    "from pytorch_lightning.callbacks.model_checkpoint import ModelCheckpoint\n",
    "from pytorch_lightning.loggers import CSVLogger, TensorBoardLogger\n",
    "from pytorch_lightning.strategies import DDPStrategy\n",
    "from torch_geometric.data import Data\n",
    "\n",
    "\n",
    "from vae_decoder import EGNNDecoder\n",
    "from vae_model import MolecularVAE, vae_loss_function\n",
    "\n",
    "from visnet_vae_encoder import ViSNetEncoder\n",
    "\n",
    "from torch_geometric.loader import DataLoader\n",
    "import torch.nn.functional as F\n",
    "from pathlib import Path\n",
    "import sys\n",
    "import wandb\n",
    "from aib9_lib import aib9_tools as aib9\n",
    "from torch.cuda.amp import autocast, GradScaler\n",
    "from vae_utils import validate_and_sample, visualize_molecule_3d, compute_bond_lengths"
   ]
  },
  {
   "cell_type": "code",
   "execution_count": 21,
   "id": "bba8acbb",
   "metadata": {},
   "outputs": [
    {
     "name": "stdout",
     "output_type": "stream",
     "text": [
      "Using device: cpu\n"
     ]
    }
   ],
   "source": [
    "from aib9_lib import aib9_tools as aib9\n",
    "if torch.cuda.is_available():\n",
    "    device = torch.device('cuda')\n",
    "else:\n",
    "    device = torch.device('cpu')\n",
    "\n",
    "print(f'Using device: {device}')\n",
    "\n",
    "\n",
    "#Training parameters\n",
    "ATOM_COUNT = 58\n",
    "COORD_DIM = 3\n",
    "ORIGINAL_DIM = ATOM_COUNT * COORD_DIM  \n",
    "LATENT_DIM = 64 \n",
    "EPOCHS = 50\n",
    "VISNET_HIDDEN_CHANNELS = 64\n",
    "ENCODER_NUM_LAYERS = 6\n",
    "DECODER_HIDDEN_DIM = 64\n",
    "DECODER_NUM_LAYERS = 6\n",
    "BATCH_SIZE = 512  # Increased from 128 (V100 can handle much more!)\n",
    "LEARNING_RATE = 5e-5  # Reduced to prevent gradient explosion\n",
    "NUM_WORKERS = 2  # Parallel data loading\n",
    "\n",
    "train_data_np = np.load(aib9.FULL_DATA)\n",
    "train_data_np = train_data_np.reshape(-1, 58, 3)\n",
    "\n",
    "TOPO_FILE = (\n",
    "   \"/Users/chriszhang/Documents/aib9_vanillavae/visnet_aib9/aib9_lib/aib9_atom_info.npy\"\n",
    ")  \n",
    "\n",
    "ATOMICNUMBER_MAPPING = {\n",
    "\"H\": 1,\n",
    "\"C\": 6,\n",
    "\"N\": 7,\n",
    "\"O\": 8,\n",
    "\"F\": 9,\n",
    "\"P\": 15,\n",
    "\"S\": 16,\n",
    "\"Cl\": 17,\n",
    "\"Br\": 35,\n",
    "\"I\": 53,\n",
    "}\n",
    "\n",
    "ATOMIC_NUMBERS = []\n",
    "topo = np.load(TOPO_FILE)\n",
    "#print(f\"Loaded topology with shape: {topo.shape}\", topo)\n",
    "for i in range(topo.shape[0]):\n",
    "    atom_name = topo[i, 0][0]\n",
    "    if atom_name in ATOMICNUMBER_MAPPING:\n",
    "        ATOMIC_NUMBERS.append(ATOMICNUMBER_MAPPING[atom_name])\n",
    "    else:\n",
    "        raise ValueError(f\"Unknown atom name: {atom_name}\")\n",
    "\n",
    "# Create all tensors directly on the selected device to avoid device mismatch\n",
    "z = torch.tensor(ATOMIC_NUMBERS, dtype=torch.long, device=device)\n",
    "\n",
    "# Create a list of Data objects, one for each molecule\n",
    "edges = aib9.identify_all_covalent_edges(topo)\n",
    "# edges is already in shape [2, num_edges], no need to transpose\n",
    "edge_index = torch.tensor(edges, dtype=torch.long, device=device).contiguous()\n",
    "\n",
    "train_data_list = []\n",
    "for i in range(train_data_np.shape[0]):\n",
    "    pos = torch.from_numpy(train_data_np[i]).float().to(device)\n",
    "    data = Data(z=z, pos=pos, edge_index=edge_index).to(device)\n",
    "    train_data_list.append(data)\n",
    "train_loader = DataLoader(\n",
    "    train_data_list,\n",
    "    batch_size=BATCH_SIZE,\n",
    "    shuffle=True,\n",
    "    num_workers=0\n",
    ")"
   ]
  },
  {
   "cell_type": "code",
   "execution_count": 22,
   "id": "a8109d3c",
   "metadata": {},
   "outputs": [
    {
     "data": {
      "text/plain": [
       "(2, 112)"
      ]
     },
     "execution_count": 22,
     "metadata": {},
     "output_type": "execute_result"
    }
   ],
   "source": [
    "edges.shape\n"
   ]
  }
 ],
 "metadata": {
  "kernelspec": {
   "display_name": "base",
   "language": "python",
   "name": "python3"
  },
  "language_info": {
   "codemirror_mode": {
    "name": "ipython",
    "version": 3
   },
   "file_extension": ".py",
   "mimetype": "text/x-python",
   "name": "python",
   "nbconvert_exporter": "python",
   "pygments_lexer": "ipython3",
   "version": "3.11.9"
  }
 },
 "nbformat": 4,
 "nbformat_minor": 5
}
